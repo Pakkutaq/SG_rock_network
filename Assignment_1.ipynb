{
 "cells": [
  {
   "cell_type": "markdown",
   "id": "87845af0",
   "metadata": {},
   "source": [
    "# Assignment 1.1"
   ]
  },
  {
   "cell_type": "markdown",
   "id": "b0a3c61445e80c6b",
   "metadata": {},
   "source": [
    "### Did you really read the text? Answer the following questions (no calculations needed) in your IPython notebook"
   ]
  },
  {
   "cell_type": "markdown",
   "id": "8e0771fb86044198",
   "metadata": {},
   "source": [
    "*What's the problem with random networks as a model for real-world networks according to the argument in section 3.5 (near the end)?*\n",
    "\n",
    "Random networks predict that everyone has nearly the same number of connections, with little variation.\n",
    "In reality, some individuals have more connections than average.\n",
    "This shows that random networks underestimate the spread of connections and cannot explain the presence of very highly connected people.\n"
   ]
  },
  {
   "cell_type": "markdown",
   "id": "128083adab815341",
   "metadata": {},
   "source": [
    "*List the four regimes that characterize random networks as a function of <k>.*\n",
    "\n",
    "\n",
    "- **Subcritical Regime (⟨k⟩ < 1)**\n",
    "  The network is mostly tiny pieces, small groups and isolated nodes. No large connected part exists.\n",
    "\n",
    "- **Critical Point (⟨k⟩ ≈ 1)**\n",
    "  This is the tipping point. A giant cluster suddenly starts to appear in the network.\n",
    "\n",
    "- **Supercritical Regime (1 < ⟨k⟩ < ln N)**\n",
    "  A big cluster exists, but some small groups and isolated nodes still remain.\n",
    "\n",
    "- **Connected Regime (⟨k⟩ > ln N)**\n",
    "  Nearly every node belongs to the same large cluster, so the network is almost fully connected."
   ]
  },
  {
   "cell_type": "markdown",
   "id": "e409af4f3324f6bb",
   "metadata": {},
   "source": [
    "*According to the book, why is it a problem for random networks (in terms of being a model for real-world networks) that the degree-dependent clustering C(k) decreases as a function of k in real-world networks?*\n",
    "\n",
    "Because in real networks C(k) decreases with k, highly connected nodes link many groups together, while random networks miss this structure by predicting no such.\n"
   ]
  },
  {
   "cell_type": "markdown",
   "id": "7aef536c54f5c80b",
   "metadata": {},
   "source": [
    "### WS edition\n"
   ]
  },
  {
   "cell_type": "markdown",
   "id": "3caecb1f23fc19a7",
   "metadata": {},
   "source": [
    "*First, let's use networkx to play around with WS graphs. Use nx.watts_strogatz_graph to generate 3 graphs with 500 nodes each, average degree = 4, and rewiring probablity P = 0, 0.1, and 1. Calculate the average shortest path length <d> for each one.*"
   ]
  },
  {
   "cell_type": "code",
   "execution_count": null,
   "id": "7934bd33c11fd2f4",
   "metadata": {
    "ExecuteTime": {
     "end_time": "2025-09-30T00:10:16.677269Z",
     "start_time": "2025-09-30T00:10:16.004669Z"
    }
   },
   "outputs": [],
   "source": [
    "import networkx as nx\n",
    "\n",
    "n = 500 # number of nodes\n",
    "k = 4 # each node is joined with its k nearest neighbors\n",
    "probs = [0, 0.1, 1]\n",
    "\n",
    "results = {}\n",
    "for p in probs:\n",
    "    G = nx.watts_strogatz_graph(n, k, p)\n",
    "    avg_shortest_path = nx.average_shortest_path_length(G)\n",
    "    results[p] = avg_shortest_path\n",
    "\n",
    "results\n"
   ]
  },
  {
   "cell_type": "markdown",
   "id": "7837361fe00b73be",
   "metadata": {},
   "source": [
    "*Describe what happens to the network when p = 1*\n",
    "\n",
    "When p = 1 the network is fully randomized: every edge is rewired at random.\n",
    "The graph loses its lattice structure and becomes similar to an Erdős–Rényi random graph, with very short path lengths but little local clustering."
   ]
  },
  {
   "cell_type": "markdown",
   "id": "8c64bc982bd7a292",
   "metadata": {},
   "source": [
    "*Generate a lot of networks with different values of p. You will notice that paths are short when p is close to one and they are long when p = 0. What's the value of p for which the average shortest path length gets close to the short paths we find in a fully randomized network.*"
   ]
  },
  {
   "cell_type": "code",
   "execution_count": null,
   "id": "420eca726ba195f1",
   "metadata": {
    "ExecuteTime": {
     "end_time": "2025-09-30T00:10:18.453308Z",
     "start_time": "2025-09-30T00:10:16.853868Z"
    }
   },
   "outputs": [],
   "source": [
    "import numpy as np\n",
    "\n",
    "# Sweep through many p values\n",
    "p_values = np.logspace(-4, 0, 15)  # from 0.0001 to 1, logarithmic spacing\n",
    "avg_paths = []\n",
    "\n",
    "for p in p_values:\n",
    "    G = nx.watts_strogatz_graph(n, k, p)\n",
    "    avg_paths.append(nx.average_shortest_path_length(G))\n",
    "\n",
    "# Find the smallest p where path length is within ~10% of the p=1 case\n",
    "p1_value = results[1]\n",
    "threshold = 1.1 * p1_value\n",
    "close_idx = next(i for i, val in enumerate(avg_paths) if val <= threshold)\n",
    "p_close = p_values[close_idx]\n"
   ]
  },
  {
   "cell_type": "code",
   "execution_count": null,
   "id": "47a6c4b7f1b85f7c",
   "metadata": {
    "ExecuteTime": {
     "end_time": "2025-09-30T00:10:18.955604Z",
     "start_time": "2025-09-30T00:10:18.466348Z"
    }
   },
   "outputs": [],
   "source": [
    "import pandas as pd\n",
    "\n",
    "df = pd.DataFrame({\n",
    "    \"p\": p_values,\n",
    "    \"avg_shortest_path_length\": avg_paths\n",
    "})\n",
    "\n",
    "print(df)"
   ]
  },
  {
   "cell_type": "markdown",
   "id": "911211c69e904b21",
   "metadata": {},
   "source": [
    "By generating many networks for different values of p, we see that the average shortest path length quickly drops.\n",
    "It gets close to the fully randomized case (p = 1) already around **p ≈ 0.5**."
   ]
  },
  {
   "cell_type": "markdown",
   "id": "da42071c8a28b901",
   "metadata": {},
   "source": [
    "*Let's investigate this behavior in detail. Generate 50 networks with N = 500, <k> = 4, for each of p = {0,0.01,0.03,0.04,0.1,0.2}. Calculate the average of <d> as well as the standard deviation over the 50 networks, to create a plot that shows how the path length decreases very quickly with only a little fraction of re-wiring. Use the standard deviation to add [errorbars](https://matplotlib.org/stable/api/_as_gen/matplotlib.pyplot.errorbar.html) to the plot. Imagine that you put this plot in an assignment. Write a figure caption that explains to the reader what the plot shows (which variables, etc) and what's interesting about it.*"
   ]
  },
  {
   "cell_type": "code",
   "execution_count": null,
   "id": "6f41384005cf12cf",
   "metadata": {
    "ExecuteTime": {
     "end_time": "2025-09-30T00:10:50.548920Z",
     "start_time": "2025-09-30T00:10:18.977257Z"
    }
   },
   "outputs": [],
   "source": [
    "import matplotlib.pyplot as plt\n",
    "\n",
    "# Parameters\n",
    "N = 500\n",
    "k = 4\n",
    "p_values = [0, 0.01, 0.03, 0.04, 0.1, 0.2]\n",
    "num_runs = 50\n",
    "\n",
    "means = []\n",
    "stds = []\n",
    "\n",
    "for p in p_values:\n",
    "    lengths = []\n",
    "    for _ in range(num_runs):\n",
    "        G = nx.watts_strogatz_graph(N, k, p)\n",
    "        lengths.append(nx.average_shortest_path_length(G))\n",
    "    means.append(np.mean(lengths))\n",
    "    stds.append(np.std(lengths))\n",
    "\n",
    "# Plot with error bars\n",
    "plt.errorbar(p_values, means, yerr=stds, fmt='o-', capsize=5)\n",
    "plt.xlabel(\"Rewiring probability p\")\n",
    "plt.ylabel(\"Average shortest path length ⟨d⟩\")\n",
    "plt.title(\"Effect of rewiring probability on path length in Watts–Strogatz graphs\")\n",
    "plt.grid(True)\n",
    "plt.show()\n"
   ]
  },
  {
   "cell_type": "markdown",
   "id": "c7f62d37b7571a0",
   "metadata": {},
   "source": [
    "### BA edition"
   ]
  },
  {
   "cell_type": "markdown",
   "id": "2631a1aa59c7cdc0",
   "metadata": {},
   "source": [
    "*What are the three slope dependent regimes of complex networks with power-law degree distributions? Briefly describe each one. (You will have to skim chp 4.7 to answer this one).*\n",
    "\n",
    "\n",
    "Complex networks with power-law degree distributions show three slope-dependent regimes, depending on the value of the exponent γ in P(k) ~ k^(-γ):\n",
    "\n",
    "1. **γ > 3 (Weakly scale-free)**\n",
    "   The degree distribution has a well-defined average and variance. Hubs are rare, and the network looks more like a classical random graph.\n",
    "\n",
    "2. **2 < γ < 3 (Scale-free)**\n",
    "   The average degree is finite, but the variance diverges. This means there can be extremely highly connected nodes, and the network is strongly dominated by them.\n",
    "\n",
    "3. **1 < γ < 2 (Ultra-scale-free)**\n",
    "   Even the average degree diverges as the network grows. A few nodes grab an enormous fraction of all links, leading to extreme inequality in connectivity.\n"
   ]
  },
  {
   "cell_type": "markdown",
   "id": "f5f4609bf4813bd8",
   "metadata": {},
   "source": [
    "*What are the three regimes we find in non-linear preferential attachement? (chapter 5) Briefly describe each one.*\n",
    "\n",
    "Non-linear preferential attachment leads to three regimes, depending on how strongly the attachment probability grows with node degree:\n",
    "\n",
    "1. **Sublinear attachment (α < 1)**\n",
    "   High degree nodes have less advantage. The network becomes more homogeneous, with degrees spread narrowly and no dominant nodes.\n",
    "\n",
    "2. **Linear attachment (α = 1)**\n",
    "   This is the classic scale-free case. The network follows a power-law degree distribution, with a few very highly connected nodes and many low-degree ones.\n",
    "\n",
    "3. **Superlinear attachment (α > 1)**\n",
    "   A \"winner-takes-all\" effect appears. One nodes capture a giant share of all links, creating a star-like network dominated by a single hub.\n"
   ]
  },
  {
   "cell_type": "code",
   "execution_count": null,
   "id": "990fb0a119fd5f1e",
   "metadata": {
    "ExecuteTime": {
     "end_time": "2025-09-30T00:10:53.966937Z",
     "start_time": "2025-09-30T00:10:50.570039Z"
    }
   },
   "outputs": [],
   "source": [
    "import networkx as nx\n",
    "import matplotlib.pyplot as plt\n",
    "import random\n",
    "import numpy as np\n",
    "\n",
    "# Step 1: Start with a single link\n",
    "G = nx.Graph()\n",
    "G.add_edge(0, 1)  # initial two nodes with one edge\n",
    "\n",
    "\n",
    "# Step 2: Function to pick a node proportional to its degree \n",
    "def choose_node_by_degree(G):\n",
    "    \"\"\"\n",
    "    Selects a node with probability proportional to its degree.\n",
    "    Creates a list of nodes where each node appears as many times as its degree.\n",
    "    Then picks randomly from this list.\n",
    "    \"\"\"\n",
    "    nodes_by_degree = []\n",
    "    for node, degree in G.degree():\n",
    "        nodes_by_degree.extend([node] * degree)\n",
    "    return random.choice(nodes_by_degree)\n",
    "\n",
    "\n",
    "# Step 3: Grow the network to 100 nodes \n",
    "for new_node in range(2, 100):\n",
    "    target = choose_node_by_degree(G)\n",
    "    G.add_edge(new_node, target)\n",
    "\n",
    "# Plot the small network (100 nodes)\n",
    "plt.figure(figsize=(6, 6))\n",
    "plt.figtext(0.5, 0.01, \"Figure 1: Barabási-Albert style growth (100 nodes) The network shows hub-and-spoke structure, where new nodes prefer to attatch to other nodes with high degree\", ha=\"center\", fontsize=10, wrap=True)\n",
    "plt.subplots_adjust(bottom=0.15)\n",
    "nx.draw(G, node_size=50, with_labels=False)\n",
    "plt.title(\"Barabási-Albert style growth (100 nodes)\")\n",
    "plt.show()\n",
    "\n",
    "# Step 4: Grow to 5000 nodes \n",
    "for new_node in range(100, 5000):\n",
    "    target = choose_node_by_degree(G)\n",
    "    G.add_edge(new_node, target)\n",
    "\n",
    "# Step 5: Maximum and minimum degree \n",
    "degrees = [deg for _, deg in G.degree()]\n",
    "print(\"Max degree:\", max(degrees))\n",
    "print(\"Min degree:\", min(degrees))\n",
    "\n",
    "# Step 6: Degree distribution as scatter plots \n",
    "hist, bin_edges = np.histogram(degrees, bins=50)\n",
    "\n",
    "bin_centers = (bin_edges[:-1] + bin_edges[1:]) / 2\n",
    "\n",
    "# Linear scatter plot\n",
    "plt.scatter(bin_centers, hist, marker='o')\n",
    "plt.xlabel(\"Degree\")\n",
    "plt.ylabel(\"Count\")\n",
    "plt.title(\"Degree distribution (linear scale)\")\n",
    "plt.figtext(0.5, 0.01, \"Figure 2: Degree distribution of the Barabási-Albert network on linear scale. \" \\\n",
    "\"The distribution is very right-skewed, with a few nodes having very high degree while most have low degree.\", ha=\"center\", fontsize=10, wrap=True)\n",
    "plt.subplots_adjust(bottom=0.2)\n",
    "plt.show()\n",
    "\n",
    "# Log-log scatter plot\n",
    "plt.scatter(bin_centers, hist, marker='o')\n",
    "plt.xscale(\"log\")\n",
    "plt.yscale(\"log\")\n",
    "plt.xlabel(\"Degree (log)\")\n",
    "plt.ylabel(\"Count (log)\")\n",
    "plt.title(\"Degree distribution (log-log scale)\")\n",
    "plt.figtext(0.5, 0.01, \"Figure 3: Degree distribution of the Barabási-Albert network on log-log scale. \" \\\n",
    "            \"The log-log plot confirms the power-law behavior (P(k) ~ k^-γ)\", ha=\"center\", fontsize=10, wrap=True)\n",
    "plt.subplots_adjust(bottom=0.20)\n",
    "plt.show()\n"
   ]
  },
  {
   "cell_type": "markdown",
   "id": "b43ad37d",
   "metadata": {},
   "source": [
    "# Assignment 1.2\n",
    "\n",
    "In this part we will go start out by explaining how we build and modified the Graph with all the rock artists. Then we will do some analysis on the network and finally some visualizations  *"
   ]
  },
  {
   "cell_type": "markdown",
   "id": "2ddb6f15",
   "metadata": {},
   "source": [
    "### Explanation of the Build Process for the Network\n",
    "\n",
    "We built the rock performers network through the following steps:\n",
    "\n",
    "**Data Collection:**\n",
    "We started by fetching the wikitext page of the \"List of Mainstream Rock Performers\". This gave us a lot of unnecessary information, when we only really needed the links. Therefore, using a regex pattern, we created a new txt file with only the list of performers.\n",
    "\n",
    "**Page Download:**\n",
    "After collecting the list of all the performers, we proceeded to make a new directory and download all the individual artists' pages into individual .txt files. For this step, we encountered some issues with some artists having special characters in their names, which are not valid for filenames, such as \"AC/DC\" and \"Panic! at the Disco\", where \"/\" and \"!\" are not valid in filenames. Therefore, we needed to sanitize these by replacing them with \"_\". This turned out to help us in the end, since bands with whitespaces in their names have \"_\" in the Wikipedia URL.\n",
    "\n",
    "**Link Extraction:**\n",
    "To extract the links on each of the artists' wiki-pages, we used a regex pattern to look for the specific \"[[...]]\" or \"[[...|...]]\" format. Furthermore, we made sure to save these in a 'set' to avoid duplicate links, since we do not care about how *many* times artists are linked, just the fact that they *are*.\n",
    "\n",
    "**Network Construction:**\n",
    "To create the network:\n",
    "- We started by initializing a directed graph (G)\n",
    "- Looping over all performers in our list, for each performer we did the following:\n",
    "  - Added the performer's name to G as a node\n",
    "  - Used our helper function to count the number of words on their page and set this as \"content_length\"\n",
    "  - Used our link extraction function to extract the links, making sure to filter any links which do not point to another artist\n",
    "  - Finally, created directed edges to the other nodes corresponding to the links between performers\n",
    "- The resulting network had 488 nodes and 7,267 edges\n",
    "\n",
    "**Network Cleaning:**\n",
    "We also inspected the network to identify any performers who are not linked to any other performers - there turned out to be 4 of those, so we removed them from the graph.\n",
    "\n",
    "**Most Difficult Part**\n",
    "\n",
    "The most difficult part was setting up the Wikipedia download and figuring out why we couldn't save some of the performers' wiki-text to a file. Furthermore, getting the regex just right also took some trial and error. Finally, because we changed some of the artist names in our list, we had trouble downloading their content, so we needed to \"convert\" their names to match their URL names.\n",
    "\n",
    "**Use of LLMs**\n",
    "\n",
    "For the network build, we used LLMs to help set up the API. We had some errors with 403 Forbidden, since we initially did not have a header for our API call. Furthermore, we had help developing the regex pattern and finally also help with the filename sanitization and following reconstruction for downloading the pages.\n",
    "\n",
    "**What We Would Do Differently**\n",
    "\n",
    "If we had to do this again, we would start with better research on how the data in Wikipedia is represented. We would also make a clearer mapping between our filenames and the actual URLs so that we did not need to deal with this issue. We might also benefit from better error handling, since we spent a fair bit of time trying to understand what was going wrong."
   ]
  },
  {
   "cell_type": "markdown",
   "id": "f72618de",
   "metadata": {},
   "source": [
    "### Simple network analysis and statistics"
   ]
  },
  {
   "cell_type": "markdown",
   "id": "389aabb0",
   "metadata": {},
   "source": [
    "**First we will fetch the graph from the github repository we made**"
   ]
  },
  {
   "cell_type": "code",
   "execution_count": null,
   "id": "ee7d7a1e",
   "metadata": {},
   "outputs": [],
   "source": [
    "import networkx as nx\n",
    "import requests\n",
    "import matplotlib.pyplot as plt\n",
    "import numpy as np\n",
    "from io import BytesIO\n",
    "\n",
    "# Download and load the network directly from GitHub\n",
    "url = \"https://raw.githubusercontent.com/Pakkutaq/SG_rock_network/main/rock_artists/rock_network.graphml\"\n",
    "response = requests.get(url)\n",
    "\n",
    "G = nx.read_graphml(BytesIO(response.content))"
   ]
  },
  {
   "cell_type": "markdown",
   "id": "69f1f9bd",
   "metadata": {},
   "source": [
    "### How many nodes and edges(links) are there in the network:"
   ]
  },
  {
   "cell_type": "code",
   "execution_count": 3,
   "id": "7cf04780",
   "metadata": {},
   "outputs": [
    {
     "name": "stdout",
     "output_type": "stream",
     "text": [
      "Number of nodes in the network: 484\n",
      "Number of edges in the network: 7267\n"
     ]
    }
   ],
   "source": [
    "num_nodes = G.number_of_nodes()\n",
    "num_edges = G.number_of_edges()\n",
    "print(f\"Number of nodes in the network: {num_nodes}\")\n",
    "print(f\"Number of edges in the network: {num_edges}\")"
   ]
  },
  {
   "cell_type": "markdown",
   "id": "53a5b377",
   "metadata": {},
   "source": [
    "### In- and Out degress of each nodes with plotting:"
   ]
  },
  {
   "cell_type": "code",
   "execution_count": null,
   "id": "946d10a1",
   "metadata": {},
   "outputs": [],
   "source": [
    "# Get in-degrees and out-degrees of all nodes\n",
    "in_degrees = [degree for node, degree in G.in_degree()]\n",
    "out_degrees = [degree for node, degree in G.out_degree()]\n",
    "\n",
    "# Creating the subplot structure to compare in- and out-degrees\n",
    "fig, axs = plt.subplots(1, 2, figsize=(14, 5))\n",
    "\n",
    "# Plot for in-degree\n",
    "axs[0].hist(in_degrees, bins=50, edgecolor='black', alpha=0.7, color='steelblue')\n",
    "axs[0].set_xlabel('In-Degree (number of incoming links)', fontsize=11)\n",
    "axs[0].set_ylabel('Frequency (number of nodes)', fontsize=11)\n",
    "axs[0].set_title('In-Degree Distribution')\n",
    "axs[0].grid(True, alpha=0.3)\n",
    "axs[0].set_xticks(range(0, max(in_degrees)+10, 10))\n",
    "\n",
    "# Plot for out-degree\n",
    "axs[1].hist(out_degrees, bins=50, edgecolor='black', alpha=0.7, color='coral')\n",
    "axs[1].set_xlabel('Out-Degree (number of outgoing links)', fontsize=11)\n",
    "axs[1].set_ylabel('Frequency (number of nodes)', fontsize=11)\n",
    "axs[1].set_title('Out-Degree Distribution')\n",
    "axs[1].grid(True, alpha=0.3)\n",
    "axs[1].set_xticks(range(0, max(out_degrees)+10, 10))\n",
    "\n",
    "plt.figtext(0.5, 0.01, \"Figure 4: In-Degree and Out-Degree Distributions of the Rock Performers Network \" \\\n",
    "            \"The figure shows degree distributions for 484 rock performers. The in-degree distribution (left) is heavily right-skewed with most nodes having 0-10 incoming links and a long tail extending to 120. \" \\\n",
    "            \"The out-degree distribution (right) is a bit more spread out, ranging from 0-75 with a peak around 10-15 links.\", ha=\"center\", fontsize=10, wrap=True)\n",
    "plt.subplots_adjust(bottom=0.2)\n",
    "plt.show()"
   ]
  },
  {
   "cell_type": "markdown",
   "id": "82be1421",
   "metadata": {},
   "source": [
    "**Observations and Explanation:**\n",
    "\n",
    "The distributions differ because they measure different aspects of the network. \n",
    "\n",
    "In-degree counts how many other performers' pages link to a given performer, reflecting their popularity and influence. The long tail appears because some very famous performers get cited a large amount.\n",
    "\n",
    "Out-degree counts how many other performers a given page links to, reflecting citation behavior. And because it's rather limited how many links to other performers each wikipedia page has, we clearly see it more distributed but in a smaller range."
   ]
  },
  {
   "cell_type": "markdown",
   "id": "0ee80477",
   "metadata": {},
   "source": [
    "### Comparison between out-degree of rocker performers and random graph"
   ]
  },
  {
   "cell_type": "code",
   "execution_count": null,
   "id": "3d23b8a5",
   "metadata": {},
   "outputs": [],
   "source": [
    "# Generating the random network with the same amount of nodes and links\n",
    "num_nodes = G.number_of_nodes()\n",
    "num_edges = G.number_of_edges()\n",
    "random_graph = nx.gnm_random_graph(num_nodes, num_edges, directed=True)\n",
    "\n",
    "# Comparing the out-degree to the random network\n",
    "random_out_degrees = [degree for node, degree in random_graph.out_degree()]\n",
    "G_out_degrees = [degree for node, degree in G.out_degree()]\n",
    "\n",
    "fig, axs = plt.subplots(1, 2, figsize=(14, 5))\n",
    "# Plot for out-degree of the original graph\n",
    "axs[0].hist(G_out_degrees, bins=50, edgecolor='black', alpha=0.7, color='coral')\n",
    "axs[0].set_xlabel('Out-Degree (number of outgoing links)', fontsize=11)\n",
    "axs[0].set_ylabel('Frequency (number of nodes)', fontsize=11)\n",
    "axs[0].set_title('Out-Degree Distribution of Original Graph')\n",
    "axs[0].grid(True, alpha=0.3)\n",
    "axs[0].set_xticks(range(0, max(G_out_degrees)+10, 10))  \n",
    "# Plot for out-degree of the random graph\n",
    "axs[1].hist(random_out_degrees, bins=50, edgecolor='black', alpha=0.7, color='lightgreen')\n",
    "axs[1].set_xlabel('Out-Degree (number of outgoing links)', fontsize=11)\n",
    "axs[1].set_ylabel('Frequency (number of nodes)', fontsize=11)\n",
    "axs[1].set_title('Out-Degree Distribution of Random Graph')\n",
    "axs[1].grid(True, alpha=0.3)\n",
    "axs[1].set_xticks(range(0, max(random_out_degrees)+10, 10))\n",
    "\n",
    "\n",
    "plt.figtext(0.5, 0.01, \"Figure 5: Out-degree distribution of the rock_performers and a random graph with same number of nodes and links \" \\\n",
    "            \"The figure shows out-degree distributions between rock performers (left) and randomly generated (right). \", ha=\"center\", fontsize=10, wrap=True)\n",
    "plt.subplots_adjust(bottom=0.2)\n",
    "plt.show()\n"
   ]
  },
  {
   "cell_type": "markdown",
   "id": "ed61cd6d",
   "metadata": {},
   "source": [
    "**Comparison**\n",
    "\n",
    "We see a clear difference, the random graph follows a clear normal distribution, where the rock performers appear right-skewed in this scenario. Although, we notice, that the frequency between 10-20 outgoing edges, is not actually that different from eachother."
   ]
  },
  {
   "cell_type": "markdown",
   "id": "45998bac",
   "metadata": {},
   "source": [
    "#### Comparison between in-degree and scale-free network:"
   ]
  },
  {
   "cell_type": "code",
   "execution_count": null,
   "id": "4f69638e",
   "metadata": {},
   "outputs": [],
   "source": [
    "# Creating the scale-free network\n",
    "scale_free_graph = nx.scale_free_graph(num_nodes)\n",
    "\n",
    "# Get in-degrees for both networks\n",
    "scale_free_in_degrees = [degree for node, degree in scale_free_graph.in_degree()]\n",
    "G_in_degrees = [degree for node, degree in G.in_degree()]\n",
    "\n",
    "fig, axs = plt.subplots(1, 2, figsize=(14, 5))\n",
    "\n",
    "# Plot for in-degree of the rock performers graph\n",
    "axs[0].hist(G_in_degrees, bins=50, edgecolor='black', alpha=0.7, color='steelblue')\n",
    "axs[0].set_xlabel('In-Degree (number of incoming links)', fontsize=11)\n",
    "axs[0].set_ylabel('Frequency (number of nodes)', fontsize=11)\n",
    "axs[0].set_title('Rock Performers In-Degree Distribution')\n",
    "axs[0].grid(True, alpha=0.3)\n",
    "axs[0].set_xticks(range(0, max(G_in_degrees)+10, 10))\n",
    "\n",
    "# Plot for in-degree of the scale-free graph\n",
    "axs[1].hist(scale_free_in_degrees, bins=50, edgecolor='black', alpha=0.7, color='plum')\n",
    "axs[1].set_xlabel('In-Degree (number of incoming links)', fontsize=11)\n",
    "axs[1].set_ylabel('Frequency (number of nodes)', fontsize=11)\n",
    "axs[1].set_title('Scale-Free Network (Directed)')\n",
    "axs[1].grid(True, alpha=0.3)\n",
    "axs[1].set_xticks(range(0, max(scale_free_in_degrees)+10, 10))\n",
    "\n",
    "plt.figtext(0.5, 0.01, \"Figure 6: In-degree distribution of the rock_performers and a scale-free network with same number of nodes \" \\\n",
    "            \"The figure shows on the left the in-degree distribution of rock performers, while on the right is shown the distribution of degrees in a scale-free network.\", ha=\"center\", fontsize=10, wrap=True)\n",
    "plt.subplots_adjust(bottom=0.2)\n",
    "plt.show()"
   ]
  },
  {
   "cell_type": "markdown",
   "id": "521ab21d",
   "metadata": {},
   "source": [
    "**Comparison and explanation**\n",
    "\n",
    "In figure above there is a big difference between the distribution of the in-degree for rocker performers wiki-entires and a scale-free network. This is not surprising, since this distribution matches the one from part 1 of the assignment. However, they do share some similiarty, in that they both are right-skewed with long tails - the scale-free is more extreme in the right-skew.\n"
   ]
  },
  {
   "cell_type": "markdown",
   "id": "60e92f12",
   "metadata": {},
   "source": [
    "### Top 5 most connected performers in terms of in- and out-degrees:"
   ]
  },
  {
   "cell_type": "code",
   "execution_count": null,
   "id": "33ad7716",
   "metadata": {},
   "outputs": [],
   "source": [
    "# Here we get the in- and out-degrees of all nodes as a dictionary, so we know which performer has which degree\n",
    "in_degree_dict = dict(G.in_degree())\n",
    "out_degree_dict = dict(G.out_degree())\n",
    "\n",
    "# Sort by degree and select the top 5. We reverse the sorting since we want DESC order.\n",
    "top_5_in_degree = sorted(in_degree_dict.items(), key=lambda x: x[1], reverse=True)[:5]\n",
    "top_5_out_degree = sorted(out_degree_dict.items(), key=lambda x: x[1], reverse=True)[:5]\n",
    "\n",
    "# Now we can prin the results\n",
    "print(\"Top 5 performers by In-Degree:\")\n",
    "for performer, degree in top_5_in_degree:\n",
    "    print(f\"{performer}: {degree}\")\n",
    "\n",
    "print(\"\\nTop 5 performers by Out-Degree:\")\n",
    "for performer, degree in top_5_out_degree:\n",
    "    print(f\"{performer}: {degree}\")\n",
    "\n",
    "# For our hypothesis, we expected out-degree to be somewhat correlated with page length (word count)\n",
    "content_lengths = nx.get_node_attributes(G, 'content_length')\n",
    "\n",
    "top_5_content_length = sorted(content_lengths.items(), key=lambda x: x[1], reverse=True)[:5]\n",
    "\n",
    "print(\"\\nTop 5 performers by Content Length (word count):\")\n",
    "for performer, length in top_5_content_length:\n",
    "    print(f\"{performer}: {length}\")\n"
   ]
  },
  {
   "cell_type": "markdown",
   "id": "d458fe26",
   "metadata": {},
   "source": [
    "Looking at the output from above, there is really no surprise in in-degree. Every name in the top 5 are well-known bands which have been known and existed for a very long time, therefore it makes sense that a lot of other performer wiki-pages are linking to these. \n",
    "\n",
    "However, the top 5 out-degree performers (Alice in Chains, Deep Purple, Def Leppard) are surprising since they aren't the most iconic bands. This reveals that out-degree reflects page structure rather than fame - well-maintained contextual pages link to more artists, while famous bands' pages focus on their own story. We expected overlap with word count (longer pages = more links), but found none. The longest pages belong to the most famous performers, indicating that page length measures cultural significance and has no immediate affect the out-degree."
   ]
  },
  {
   "cell_type": "markdown",
   "id": "31ef8a1c",
   "metadata": {},
   "source": [
    "#### The longest wiki-entries\n",
    "Finally we take a close look at the top 5 performers by content length."
   ]
  },
  {
   "cell_type": "code",
   "execution_count": null,
   "id": "9a6b3148",
   "metadata": {},
   "outputs": [],
   "source": [
    "top_10_content_length = sorted(content_lengths.items(), key=lambda x: x[1], reverse=True)[:10]\n",
    "\n",
    "print(\"\\nTop 10 performers by Content Length (word count):\")\n",
    "for performer, length in top_10_content_length:\n",
    "    print(f\"{performer}: {length}\")\n"
   ]
  },
  {
   "cell_type": "markdown",
   "id": "f40645de",
   "metadata": {},
   "source": [
    "As we also concluded in our hypothesis from above, the largest wiki-entries belong to some of the most well-known rock artists throughout time."
   ]
  },
  {
   "cell_type": "markdown",
   "id": "1c7b961b",
   "metadata": {},
   "source": [
    "## Visualizing the networks"
   ]
  },
  {
   "cell_type": "code",
   "execution_count": null,
   "id": "278fdbe6",
   "metadata": {},
   "outputs": [],
   "source": [
    "# Converting to undirected graph for visualization\n",
    "G_undirected = G.to_undirected()\n",
    "\n",
    "# We want to get the degrees for each node, so we can set the node size accordingly\n",
    "degrees = dict(G_undirected.degree())\n",
    "\n",
    "# We want the node color to depend on the content length:\n",
    "content_lengths = nx.get_node_attributes(G_undirected, 'content_length')\n",
    "\n",
    "plt.figure(figsize=(20, 20))\n",
    "\n",
    "pos = nx.spring_layout(G_undirected, k=0.15, iterations=50, seed=42)\n",
    "# Draw the nodes\n",
    "nx.draw_networkx_nodes(G_undirected, pos, node_size=[degrees[node] for node in G_undirected.nodes()],\n",
    "                       node_color=[content_lengths.get(node, 0) for node in G_undirected.nodes()],\n",
    "                       cmap=plt.cm.viridis, alpha=0.7)\n",
    "\n",
    "# Draw the edges\n",
    "nx.draw_networkx_edges(G_undirected, pos, alpha=0.5)\n",
    "\n",
    "# Add labels\n",
    "nx.draw_networkx_labels(G_undirected, pos, font_size=12)\n",
    "\n",
    "plt.title(\"Social Network Graph (Undirected)\")\n",
    "plt.show()"
   ]
  },
  {
   "cell_type": "code",
   "execution_count": null,
   "id": "b296783b",
   "metadata": {},
   "outputs": [],
   "source": [
    "# Convert to undirected graph for visualization\n",
    "G_undirected = G.to_undirected()\n",
    "\n",
    "# Get node attributes we want degrees for size and content length for color\n",
    "degrees = dict(G_undirected.degree())\n",
    "content_lengths = nx.get_node_attributes(G, 'content_length')\n",
    "\n",
    "plt.figure(figsize=(10, 10))\n",
    "\n",
    "# Use Kamada-Kawai layout\n",
    "# https://en.wikipedia.org/wiki/Force-directed_graph_drawing \n",
    "# https://networkx.org/documentation/stable/reference/generated/networkx.drawing.layout.kamada_kawai_layout.html\n",
    "pos = nx.kamada_kawai_layout(G_undirected) \n",
    "\n",
    "# Making the node sizes depend on the degree with a scalar for visibility\n",
    "node_sizes = [degrees[node] * 5 for node in G_undirected.nodes()]\n",
    "\n",
    "# Making the node colors depend on the content length with a scalar for visibility\n",
    "node_colors = [content_lengths.get(node, 0) for node in G_undirected.nodes()]\n",
    "\n",
    "# Draw the network\n",
    "nx.draw_networkx(\n",
    "    G_undirected,\n",
    "    pos,\n",
    "    node_size=node_sizes,\n",
    "    node_color=node_colors,\n",
    "    cmap=plt.cm.YlOrRd,\n",
    "    with_labels=False,\n",
    "    edge_color='gray',\n",
    "    alpha=0.7,\n",
    "    width=0.1\n",
    ")\n",
    "\n",
    "# Add colorbar\n",
    "sm = plt.cm.ScalarMappable(cmap=plt.cm.YlOrRd, norm=plt.Normalize(vmin=min(node_colors), vmax=max(node_colors)))\n",
    "sm.set_array([])\n",
    "cbar = plt.colorbar(sm, ax=plt.gca())\n",
    "cbar.set_label('Content Length (words)', rotation=270, labelpad=25)\n",
    "\n",
    "plt.title('Rock Performers Network\\n(Node size = degree, Color = page length)', fontsize=16)\n",
    "plt.axis('off')\n",
    "plt.figtext(0.5, 0.01, \"Figure 7: Rock Performers Network (Node size = degree, Color = page length).\" \\\n",
    "\"The network visualization shows a highly connected network, where node color represents wiki-entry length, with darker colors for longer pages. and node size represents\" \\\n",
    "\"the number of connections (degree) a performer has in the network.\", ha=\"center\", fontsize=10, wrap=True)\n",
    "plt.show()"
   ]
  },
  {
   "cell_type": "markdown",
   "id": "04d0e688",
   "metadata": {},
   "source": [
    "We observe that longer pages generally correspond to higher connectivity, as shown by the large, dark red nodes in the network's center. However, notable exceptions exist: several dark red nodes (long Wikipedia pages) appear with small sizes away from the center. These likely represent highly famous performers whose pages focus on their own story rather than linking to other artists. Some moderately-sized nodes near the center show the opposite pattern - shorter pages but high connectivity - suggesting these performers' Wikipedia entries are written with more emphasis on musical relationships and influences."
   ]
  },
  {
   "cell_type": "markdown",
   "id": "0324527e",
   "metadata": {},
   "source": [
    "### Contributions"
   ]
  },
  {
   "cell_type": "markdown",
   "id": "b2704f1f",
   "metadata": {},
   "source": [
    "This Assignment was made by Oliver Badike Hansen (s224754) and Marcus Lilleør Christoffersen (s224750), and the contributions are distributed 50/50 as follows:\n",
    "\n",
    "    - Oliver (s224754) made the Assignment 1.1\n",
    "    - Marcus (s224750) made the Assignment 1.2"
   ]
  }
 ],
 "metadata": {
  "kernelspec": {
   "display_name": "global_env",
   "language": "python",
   "name": "python3"
  },
  "language_info": {
   "codemirror_mode": {
    "name": "ipython",
    "version": 3
   },
   "file_extension": ".py",
   "mimetype": "text/x-python",
   "name": "python",
   "nbconvert_exporter": "python",
   "pygments_lexer": "ipython3",
   "version": "3.11.9"
  }
 },
 "nbformat": 4,
 "nbformat_minor": 5
}
